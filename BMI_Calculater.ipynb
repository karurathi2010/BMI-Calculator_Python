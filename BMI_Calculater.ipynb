{
 "cells": [
  {
   "cell_type": "code",
   "execution_count": null,
   "metadata": {},
   "outputs": [],
   "source": [
    "# BMI=(weight in pounds x 703)/(Height in inches x height in inches)"
   ]
  },
  {
   "cell_type": "code",
   "execution_count": 3,
   "metadata": {},
   "outputs": [],
   "source": [
    "import tkinter as tk\n",
    "from tkinter import messagebox\n",
    "\n",
    "def calculate_bmi():\n",
    "    try:\n",
    "        # Get input values from the user\n",
    "        weight = float(weight_entry.get())\n",
    "        height = float(height_entry.get())\n",
    "\n",
    "        # BMI calculation\n",
    "        bmi = (weight * 703) / (height * height)\n",
    "\n",
    "        # Determine BMI category\n",
    "        if bmi < 18.5:\n",
    "            result = f\"Underweight-Minimal: {bmi:.2f}\"\n",
    "        elif 18.5 <= bmi < 24.9:\n",
    "            result = f\"Normal weight-Minimal: {bmi:.2f}\"\n",
    "        elif 25 <= bmi < 29.9:\n",
    "            result = f\"Overweight-Increased: {bmi:.2f}\"\n",
    "        elif 30 <= bmi < 34.9:\n",
    "            result = f\"Obese-High: {bmi:.2f}\"\n",
    "        elif 35 <= bmi < 39.9:\n",
    "            result = f\"Severely obese-Very high: {bmi:.2f}\"\n",
    "        else:\n",
    "            result = f\"Morbidly obese-Extremely high: {bmi:.2f}\"\n",
    "\n",
    "        # Display result in a message box\n",
    "        messagebox.showinfo(\"BMI Result\", f\"Hi {name_entry.get()}, your BMI is {result}\")\n",
    "\n",
    "    except ValueError:\n",
    "        messagebox.showerror(\"Input Error\", \"Please enter valid numerical values for weight and height\")\n",
    "\n",
    "# Create the main window\n",
    "root = tk.Tk()\n",
    "root.title(\"BMI Calculator\")\n",
    "\n",
    "# Set the window size\n",
    "root.geometry(\"400x400\")  # Width x Height\n",
    "\n",
    "# Set the background color of the window\n",
    "root.config(bg=\"#f0f8ff\")\n",
    "\n",
    "# Create and place labels, entries, and buttons with customization\n",
    "name_label = tk.Label(root, text=\"Enter your name:\", bg=\"#f0f8ff\", font=(\"Arial\", 12, \"bold\"))\n",
    "name_label.pack(pady=5)\n",
    "\n",
    "name_entry = tk.Entry(root, font=(\"Arial\", 12), width=30)\n",
    "name_entry.pack(pady=5)\n",
    "\n",
    "weight_label = tk.Label(root, text=\"Enter your weight in pounds:\", bg=\"#f0f8ff\", font=(\"Arial\", 12, \"bold\"))\n",
    "weight_label.pack(pady=5)\n",
    "\n",
    "weight_entry = tk.Entry(root, font=(\"Arial\", 12), width=30)\n",
    "weight_entry.pack(pady=5)\n",
    "\n",
    "height_label = tk.Label(root, text=\"Enter your height in inches:\", bg=\"#f0f8ff\", font=(\"Arial\", 12, \"bold\"))\n",
    "height_label.pack(pady=5)\n",
    "\n",
    "height_entry = tk.Entry(root, font=(\"Arial\", 12), width=30)\n",
    "height_entry.pack(pady=5)\n",
    "\n",
    "# Button to calculate BMI with customization\n",
    "calculate_button = tk.Button(root, text=\"Calculate BMI\", command=calculate_bmi, bg=\"#4CAF50\", fg=\"white\", font=(\"Arial\", 12, \"bold\"), width=20, height=2)\n",
    "calculate_button.pack(pady=20)\n",
    "\n",
    "# Start the Tkinter event loop\n",
    "root.mainloop()\n"
   ]
  },
  {
   "cell_type": "code",
   "execution_count": null,
   "metadata": {},
   "outputs": [],
   "source": []
  },
  {
   "cell_type": "code",
   "execution_count": null,
   "metadata": {},
   "outputs": [],
   "source": []
  },
  {
   "cell_type": "code",
   "execution_count": null,
   "metadata": {},
   "outputs": [],
   "source": []
  },
  {
   "cell_type": "code",
   "execution_count": null,
   "metadata": {},
   "outputs": [],
   "source": []
  },
  {
   "cell_type": "code",
   "execution_count": null,
   "metadata": {},
   "outputs": [],
   "source": []
  },
  {
   "cell_type": "code",
   "execution_count": null,
   "metadata": {},
   "outputs": [],
   "source": []
  }
 ],
 "metadata": {
  "kernelspec": {
   "display_name": "dev",
   "language": "python",
   "name": "python3"
  },
  "language_info": {
   "codemirror_mode": {
    "name": "ipython",
    "version": 3
   },
   "file_extension": ".py",
   "mimetype": "text/x-python",
   "name": "python",
   "nbconvert_exporter": "python",
   "pygments_lexer": "ipython3",
   "version": "3.10.13"
  }
 },
 "nbformat": 4,
 "nbformat_minor": 2
}
